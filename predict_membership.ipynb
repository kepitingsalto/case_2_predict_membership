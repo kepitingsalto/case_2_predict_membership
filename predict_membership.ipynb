{
 "cells": [
  {
   "cell_type": "code",
   "execution_count": 1,
   "id": "b5258163-a4e1-412f-be3e-ef4dc6820903",
   "metadata": {},
   "outputs": [],
   "source": [
    "from tabulate import tabulate\n",
    "from math import sqrt"
   ]
  },
  {
   "cell_type": "code",
   "execution_count": 117,
   "id": "32d64350-2da4-4cf0-9824-9fb61028d484",
   "metadata": {},
   "outputs": [],
   "source": [
    "class Membership:\n",
    "\n",
    "    data = {\n",
    "        \"Sumbul\": \"Platinum\",\n",
    "        \"Ana\": \"Gold\",\n",
    "        \"Cahya\": \"Platinum\"\n",
    "    }\n",
    "    def __init__(self, username):\n",
    "        self.username = username\n",
    "\n",
    "    def show_benefit(self):\n",
    "        tables = [\n",
    "            [\"Membership\", \"Diskon\", \"Benefit\"],\n",
    "            [\"Platinum\", \"15%\", \"Benefit Silver + Gold + Cashback max 30%\"],\n",
    "            [\"Gold\", \"10%\", \"Benefit Silver + Vocer ojek online\"],\n",
    "            [\"Silver\", \"5%\", \"Vocer makanan\"]\n",
    "        ]\n",
    "        print(tabulate(tables, headers = \"firstrow\", tablefmt=\"github\"))\n",
    "\n",
    "    def show_requirements(self):\n",
    "        tables = [\n",
    "            [\"Membership\", \"Monthly Expense (Juta)\", \"Monthly Income (Juta)\"],\n",
    "            [\"Platinum\", 8, 15],\n",
    "            [\"Gold\", 6, 10],\n",
    "            [\"Silver\", 5, 7]\n",
    "        ]\n",
    "        print(tabulate(tables, headers = \"firstrow\", tablefmt=\"github\"))\n",
    "\n",
    "    def predict_membership(self, username, monthly_expense, monthly_income):\n",
    "\n",
    "        res = []\n",
    "        \n",
    "        membership_parameter = [[8, 15], [6, 10], [5, 7]]\n",
    "\n",
    "        #menghitung euclidean distance\n",
    "        for index, _ in enumerate(membership_parameter):\n",
    "            tmp = round(sqrt(\n",
    "                (monthly_expense - membership_parameter[index][0])**2 + \\\n",
    "                (monthly_income - membership_parameter[index][1])**2\n",
    "            ), 2)\n",
    "\n",
    "            res.append(tmp)\n",
    "        dict = {\n",
    "            \"Platinum\": res[0],\n",
    "            \"Gold\": res[1],\n",
    "            \"Silver\": res[2]\n",
    "        }\n",
    "        print(f\"hasil perhitungan distance {self.username} adalah {dict}\")\n",
    "\n",
    "        for member, value in dict.items():\n",
    "            if value == min(res):\n",
    "                self.data[username] = member\n",
    "                return member\n",
    "\n",
    "    def calculate_price(self, username, harga):\n",
    "        try:\n",
    "            if username in self.data:\n",
    "                membership = self.data.get(username)\n",
    "                if membership == \"Platinum\":\n",
    "                    total_harga = sum(harga) - (sum(harga)*0.15)\n",
    "                    return total_harga\n",
    "                elif membership == \"Gold\":\n",
    "                    total_harga = sum(harga) - (sum(harga)*0.10)\n",
    "                    return total_harga\n",
    "                elif membership == \"Silver\":\n",
    "                    total_harga = sum(harga) - (sum(harga)*0.08)\n",
    "                    return total_harga\n",
    "                else:\n",
    "                    print(\"Membership tidak valid\")\n",
    "            else:\n",
    "                raise Exception(\"Member tidak ditemukan\")\n",
    "\n",
    "        except:\n",
    "            raise Exception(\"invalid proccess\")\n",
    "\n",
    "    def show_membership(self, username):\n",
    "        if username in self.data:\n",
    "            return self.data.get(username)\n",
    "        else:\n",
    "            raise Exception (\"username tidak ditemukan\")"
   ]
  },
  {
   "cell_type": "code",
   "execution_count": 110,
   "id": "0a90df85-a51e-41e6-8a3c-fa844fff4d0d",
   "metadata": {},
   "outputs": [],
   "source": [
    "user_1 = Membership(\"kepitingsalto\")"
   ]
  },
  {
   "cell_type": "code",
   "execution_count": 111,
   "id": "eb885d24-8ad7-4c88-bdcd-2970a4a6f4a5",
   "metadata": {},
   "outputs": [
    {
     "name": "stdout",
     "output_type": "stream",
     "text": [
      "hasil perhitungan distance kepitingsalto adalah {'Platinum': 6.4, 'Gold': 6.0, 'Silver': 7.62}\n"
     ]
    },
    {
     "data": {
      "text/plain": [
       "'Gold'"
      ]
     },
     "execution_count": 111,
     "metadata": {},
     "output_type": "execute_result"
    }
   ],
   "source": [
    "user_1.predict_membership(\"kepitingsalto\", monthly_expense = 12, monthly_income =10)"
   ]
  },
  {
   "cell_type": "code",
   "execution_count": 120,
   "id": "f7d5f86c-b9e5-4f93-9dad-18357ee76721",
   "metadata": {},
   "outputs": [
    {
     "name": "stdout",
     "output_type": "stream",
     "text": [
      "{'Sumbul': 'Platinum', 'Ana': 'Gold', 'Cahya': 'Platinum', 'Adhit': 'Silver'}\n"
     ]
    }
   ],
   "source": [
    "print(Membership.data)"
   ]
  },
  {
   "cell_type": "code",
   "execution_count": 113,
   "id": "951a345e-ec16-4421-a115-febc71d83b29",
   "metadata": {},
   "outputs": [
    {
     "data": {
      "text/plain": [
       "630000.0"
      ]
     },
     "execution_count": 113,
     "metadata": {},
     "output_type": "execute_result"
    }
   ],
   "source": [
    "list_harga = [150_000, 200_000, 350_000]\n",
    "user_1.calculate_price(user_1.username, list_harga)"
   ]
  },
  {
   "cell_type": "code",
   "execution_count": 114,
   "id": "c6c12716-84da-4e9e-b0ab-f70b07cc6102",
   "metadata": {},
   "outputs": [
    {
     "data": {
      "text/plain": [
       "595000.0"
      ]
     },
     "execution_count": 114,
     "metadata": {},
     "output_type": "execute_result"
    }
   ],
   "source": [
    "user_2 = Membership(\"Sumbul\")\n",
    "user_2.calculate_price(user_2.username, list_harga)"
   ]
  },
  {
   "cell_type": "code",
   "execution_count": 125,
   "id": "3258e22b-00f8-4aa3-a085-e1a32d115119",
   "metadata": {},
   "outputs": [
    {
     "name": "stdout",
     "output_type": "stream",
     "text": [
      "hasil perhitungan distance Adhit adalah {'Platinum': 10.3, 'Gold': 5.0, 'Silver': 2.24}\n"
     ]
    },
    {
     "data": {
      "text/plain": [
       "644000.0"
      ]
     },
     "execution_count": 125,
     "metadata": {},
     "output_type": "execute_result"
    }
   ],
   "source": [
    "user_3 = Membership(\"Adhit\")\n",
    "user_3.predict_membership(user_3.username, monthly_income = 6, monthly_expense = 3)\n",
    "user_3.show_membership(\"Adhit\")\n",
    "user_3.calculate_price(user_3.username, list_harga)"
   ]
  },
  {
   "cell_type": "code",
   "execution_count": null,
   "id": "a32de8c0-216a-4a54-be07-742c1b79c956",
   "metadata": {},
   "outputs": [],
   "source": []
  }
 ],
 "metadata": {
  "kernelspec": {
   "display_name": "Python 3 (ipykernel)",
   "language": "python",
   "name": "python3"
  },
  "language_info": {
   "codemirror_mode": {
    "name": "ipython",
    "version": 3
   },
   "file_extension": ".py",
   "mimetype": "text/x-python",
   "name": "python",
   "nbconvert_exporter": "python",
   "pygments_lexer": "ipython3",
   "version": "3.10.11"
  }
 },
 "nbformat": 4,
 "nbformat_minor": 5
}
